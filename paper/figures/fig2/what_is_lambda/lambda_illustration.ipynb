{
 "cells": [
  {
   "cell_type": "code",
   "execution_count": 1,
   "metadata": {},
   "outputs": [
    {
     "name": "stdout",
     "output_type": "stream",
     "text": [
      "Populating the interactive namespace from numpy and matplotlib\n"
     ]
    }
   ],
   "source": [
    "%pylab inline"
   ]
  },
  {
   "cell_type": "code",
   "execution_count": 2,
   "metadata": {},
   "outputs": [],
   "source": [
    "import seaborn as sbn\n",
    "import scipy.stats as stats\n",
    "current_palette = sbn.color_palette(\"Set1\",12)\n",
    "sbn.set_palette(current_palette)"
   ]
  },
  {
   "cell_type": "code",
   "execution_count": 3,
   "metadata": {},
   "outputs": [],
   "source": [
    "def plot_gaussian_mixture(v, size):\n",
    "    # now the mixed gaussians\n",
    "    loc_a, scale_a, size_a = (v[0], v[1], int(v[2]))\n",
    "    loc_b, scale_b, size_b = (v[3], v[4],int(v[5])) \n",
    "    x2 = np.concatenate([np.random.normal(loc=loc_a, scale=scale_a, size=size_a), np.random.normal(loc=loc_b, scale=scale_b, size=size_b)])\n",
    "\n",
    "    x2_eval = np.linspace(x2.min() - 1, x2.max() + 1, 500)\n",
    "    bimodal_pdf =  stats.norm.pdf(x2_eval, loc=loc_a, scale=scale_a) * float(size_a) / x2.size + \\\n",
    "                stats.norm.pdf(x2_eval, loc=loc_b, scale=scale_a) * float(size_b) / x2.size\n",
    "    return bimodal_pdf, x2_eval, x2"
   ]
  },
  {
   "cell_type": "code",
   "execution_count": 4,
   "metadata": {},
   "outputs": [],
   "source": [
    "mix_values = []\n",
    "v = np.array([-2.5,0.5,9000,2.5,0.5,1000])\n",
    "mix_values.append(v)\n",
    "for i in range(4):\n",
    "    old_v = mix_values[i]\n",
    "    v = np.array([old_v[0]+0.5, old_v[1],old_v[2]-1000, old_v[3]-0.5, old_v[4],old_v[5]+1000])\n",
    "    mix_values.append(v)\n",
    "for i in range(4,8):\n",
    "    old_v = mix_values[i]\n",
    "    v = np.array([old_v[0]-0.5, old_v[1],old_v[2]-1000, old_v[3]+0.5, old_v[4],old_v[5]+1000])\n",
    "    mix_values.append(v)\n",
    "ascending_alpha = np.linspace(0.2,0.8,9)\n",
    "descending_alpha = np.linspace(0.8,0.2,9)"
   ]
  },
  {
   "cell_type": "code",
   "execution_count": 5,
   "metadata": {},
   "outputs": [
    {
     "ename": "NameError",
     "evalue": "name 'x3' is not defined",
     "output_type": "error",
     "traceback": [
      "\u001b[0;31m---------------------------------------------------------------------------\u001b[0m",
      "\u001b[0;31mNameError\u001b[0m                                 Traceback (most recent call last)",
      "\u001b[0;32m<ipython-input-5-803941220c44>\u001b[0m in \u001b[0;36m<module>\u001b[0;34m\u001b[0m\n\u001b[1;32m      2\u001b[0m \u001b[0mloc3\u001b[0m\u001b[0;34m,\u001b[0m \u001b[0mscale3\u001b[0m\u001b[0;34m,\u001b[0m \u001b[0msize3\u001b[0m \u001b[0;34m=\u001b[0m \u001b[0;34m(\u001b[0m\u001b[0;36m3\u001b[0m\u001b[0;34m,\u001b[0m \u001b[0;36m0.5\u001b[0m\u001b[0;34m,\u001b[0m \u001b[0;36m1000000\u001b[0m\u001b[0;34m)\u001b[0m\u001b[0;34m\u001b[0m\u001b[0;34m\u001b[0m\u001b[0m\n\u001b[1;32m      3\u001b[0m \u001b[0mx1\u001b[0m \u001b[0;34m=\u001b[0m \u001b[0mnp\u001b[0m\u001b[0;34m.\u001b[0m\u001b[0mrandom\u001b[0m\u001b[0;34m.\u001b[0m\u001b[0mnormal\u001b[0m\u001b[0;34m(\u001b[0m\u001b[0mloc\u001b[0m\u001b[0;34m=\u001b[0m\u001b[0mloc1\u001b[0m\u001b[0;34m,\u001b[0m \u001b[0mscale\u001b[0m\u001b[0;34m=\u001b[0m\u001b[0mscale1\u001b[0m\u001b[0;34m,\u001b[0m \u001b[0msize\u001b[0m\u001b[0;34m=\u001b[0m\u001b[0msize1\u001b[0m\u001b[0;34m)\u001b[0m\u001b[0;34m\u001b[0m\u001b[0;34m\u001b[0m\u001b[0m\n\u001b[0;32m----> 4\u001b[0;31m \u001b[0mx1_eval\u001b[0m \u001b[0;34m=\u001b[0m \u001b[0mnp\u001b[0m\u001b[0;34m.\u001b[0m\u001b[0mlinspace\u001b[0m\u001b[0;34m(\u001b[0m\u001b[0mx1\u001b[0m\u001b[0;34m.\u001b[0m\u001b[0mmin\u001b[0m\u001b[0;34m(\u001b[0m\u001b[0;34m)\u001b[0m \u001b[0;34m-\u001b[0m \u001b[0;36m1\u001b[0m\u001b[0;34m,\u001b[0m \u001b[0mx3\u001b[0m\u001b[0;34m.\u001b[0m\u001b[0mmax\u001b[0m\u001b[0;34m(\u001b[0m\u001b[0;34m)\u001b[0m \u001b[0;34m+\u001b[0m \u001b[0;36m1\u001b[0m\u001b[0;34m,\u001b[0m \u001b[0;36m500\u001b[0m\u001b[0;34m)\u001b[0m\u001b[0;34m\u001b[0m\u001b[0;34m\u001b[0m\u001b[0m\n\u001b[0m\u001b[1;32m      5\u001b[0m \u001b[0mx3\u001b[0m \u001b[0;34m=\u001b[0m \u001b[0mnp\u001b[0m\u001b[0;34m.\u001b[0m\u001b[0mrandom\u001b[0m\u001b[0;34m.\u001b[0m\u001b[0mnormal\u001b[0m\u001b[0;34m(\u001b[0m\u001b[0mloc\u001b[0m\u001b[0;34m=\u001b[0m\u001b[0mloc3\u001b[0m\u001b[0;34m,\u001b[0m \u001b[0mscale\u001b[0m\u001b[0;34m=\u001b[0m\u001b[0mscale3\u001b[0m\u001b[0;34m,\u001b[0m \u001b[0msize\u001b[0m\u001b[0;34m=\u001b[0m\u001b[0msize3\u001b[0m\u001b[0;34m)\u001b[0m\u001b[0;34m\u001b[0m\u001b[0;34m\u001b[0m\u001b[0m\n\u001b[1;32m      6\u001b[0m \u001b[0mx3_eval\u001b[0m \u001b[0;34m=\u001b[0m \u001b[0mnp\u001b[0m\u001b[0;34m.\u001b[0m\u001b[0mlinspace\u001b[0m\u001b[0;34m(\u001b[0m\u001b[0mx1\u001b[0m\u001b[0;34m.\u001b[0m\u001b[0mmin\u001b[0m\u001b[0;34m(\u001b[0m\u001b[0;34m)\u001b[0m \u001b[0;34m-\u001b[0m \u001b[0;36m1\u001b[0m\u001b[0;34m,\u001b[0m \u001b[0mx3\u001b[0m\u001b[0;34m.\u001b[0m\u001b[0mmax\u001b[0m\u001b[0;34m(\u001b[0m\u001b[0;34m)\u001b[0m \u001b[0;34m+\u001b[0m \u001b[0;36m1\u001b[0m\u001b[0;34m,\u001b[0m \u001b[0;36m500\u001b[0m\u001b[0;34m)\u001b[0m\u001b[0;34m\u001b[0m\u001b[0;34m\u001b[0m\u001b[0m\n",
      "\u001b[0;31mNameError\u001b[0m: name 'x3' is not defined"
     ]
    }
   ],
   "source": [
    "loc1, scale1, size1 = (-3, 0.5, 1000000)\n",
    "loc3, scale3, size3 = (3, 0.5, 1000000)\n",
    "x1 = np.random.normal(loc=loc1, scale=scale1, size=size1)\n",
    "x1_eval = np.linspace(x1.min() - 1, x3.max() + 1, 500)\n",
    "x3 = np.random.normal(loc=loc3, scale=scale3, size=size3)\n",
    "x3_eval = np.linspace(x1.min() - 1, x3.max() + 1, 500)\n",
    "\n",
    "\n",
    "\n",
    "\n",
    "fig = figure(figsize(17,5))\n",
    "plot(x1_eval,stats.norm.pdf(x1_eval, loc1, scale1), color = current_palette[1], lw=3)\n",
    "plt.fill_between(x1_eval,stats.norm.pdf(x1_eval, loc1, scale1), alpha=0.1, color = current_palette[1])\n",
    "plot(x3_eval,stats.norm.pdf(x3_eval, loc3, scale3), color = current_palette[4], lw=3)\n",
    "plt.fill_between(x3_eval,stats.norm.pdf(x3_eval, loc3, scale3), alpha=0.1, color = current_palette[4])\n",
    "#sbn.kdeplot(x1, shade=True, lw=3, color=current_palette[0])\n",
    "#sbn.kdeplot(x3, shade=True, lw=3, color=current_palette[1])\n",
    "lines = [\"-\",\"-\",\"--\",\"--\",\"-.\",\"-.\",\":\",\":\", \"-\",\"-\"]\n",
    "count = 0\n",
    "for v in mix_values[::2]:\n",
    "    print(v)\n",
    "    pdf, x2_eval, x2 = plot_gaussian_mixture(v, 10000)\n",
    "    opposite_count = -1\n",
    "    plot(x2_eval[:250], pdf[:250], c=current_palette[1], alpha=descending_alpha[count],ls=lines[count], lw=2)\n",
    "    plot(x2_eval[250:], pdf[250:], c=current_palette[4], alpha=ascending_alpha[count], ls= lines[count], lw=2)\n",
    "    count = count+2\n",
    "xlim(-4.5,4.5)\n",
    "sbn.despine(top=True, right=True, left=True, bottom=True, trim=True)\n",
    "savefig(\"myfig.svg\")"
   ]
  },
  {
   "cell_type": "code",
   "execution_count": 224,
   "metadata": {},
   "outputs": [
    {
     "data": {
      "text/plain": [
       "['#e41a1c',\n",
       " '#377eb8',\n",
       " '#4daf4a',\n",
       " '#984ea3',\n",
       " '#ff7f00',\n",
       " '#ffff33',\n",
       " '#a65628',\n",
       " '#f781bf',\n",
       " '#999999',\n",
       " '#e41a1c',\n",
       " '#377eb8',\n",
       " '#4daf4a']"
      ]
     },
     "execution_count": 224,
     "metadata": {},
     "output_type": "execute_result"
    }
   ],
   "source": [
    "current_palette.as_hex()"
   ]
  },
  {
   "cell_type": "code",
   "execution_count": 27,
   "metadata": {},
   "outputs": [],
   "source": [
    "loc1, scale1, size1 = (-3, 1, 175)\n",
    "loc2, scale2, size2 = (-3, 1, 175) \n",
    "x2 = np.concatenate([np.random.normal(loc=loc1, scale=scale1, size=size1), np.random.normal(loc=loc2, scale=scale2, size=size2)])"
   ]
  },
  {
   "cell_type": "code",
   "execution_count": 28,
   "metadata": {},
   "outputs": [],
   "source": [
    "x_eval = np.linspace(x2.min() - 1, x2.max() + 1, 500)\n",
    "kde = stats.gaussian_kde(x2)"
   ]
  },
  {
   "cell_type": "code",
   "execution_count": 29,
   "metadata": {},
   "outputs": [
    {
     "data": {
      "image/png": "[encoded data removed]",
      "text/plain": [
       "<Figure size 432x288 with 1 Axes>"
      ]
     },
     "metadata": {
      "needs_background": "light"
     },
     "output_type": "display_data"
    }
   ],
   "source": [
    "plot(x_eval, kde(x_eval), 'k-', label=\"Scott's Rule\")\n",
    "sbn.despine()"
   ]
  },
  {
   "cell_type": "code",
   "execution_count": null,
   "metadata": {},
   "outputs": [],
   "source": []
  }
 ],
 "metadata": {
  "kernelspec": {
   "display_name": "Python 3",
   "language": "python",
   "name": "python3"
  },
  "language_info": {
   "codemirror_mode": {
    "name": "ipython",
    "version": 3
   },
   "file_extension": ".py",
   "mimetype": "text/x-python",
   "name": "python",
   "nbconvert_exporter": "python",
   "pygments_lexer": "ipython3",
   "version": "3.6.7"
  }
 },
 "nbformat": 4,
 "nbformat_minor": 2
}
